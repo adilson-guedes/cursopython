{
  "nbformat": 4,
  "nbformat_minor": 0,
  "metadata": {
    "colab": {
      "provenance": []
    },
    "kernelspec": {
      "name": "python3",
      "display_name": "Python 3"
    },
    "language_info": {
      "name": "python"
    }
  },
  "cells": [
    {
      "cell_type": "code",
      "execution_count": 2,
      "metadata": {
        "colab": {
          "base_uri": "https://localhost:8080/"
        },
        "id": "FcU6Ie2bko14",
        "outputId": "2fd75864-0e1a-4409-d358-2fce35a94100"
      },
      "outputs": [
        {
          "output_type": "stream",
          "name": "stdout",
          "text": [
            "Digite o primeiro número: 7\n",
            "Digite o segundo número: 8\n",
            "O primeiro número escolhido foi: 7 , e o segundo número escolhido foi: 8\n"
          ]
        }
      ],
      "source": [
        "num1 = input(\"Digite o primeiro número: \")\n",
        "num2 = input(\"Digite o segundo número: \")\n",
        "print(\"O primeiro número escolhido foi:\",num1,\", e o segundo número escolhido foi:\", num2)"
      ]
    },
    {
      "cell_type": "code",
      "source": [
        "num1_convert = float(num1)\n",
        "num2_convert = float(num2)\n",
        "print(type(num1_convert))\n",
        "print(type(num2_convert))"
      ],
      "metadata": {
        "colab": {
          "base_uri": "https://localhost:8080/"
        },
        "id": "Q1-wSe-9mO-r",
        "outputId": "8a3ea81d-bd4c-4067-e4c9-adf8296a334e"
      },
      "execution_count": 8,
      "outputs": [
        {
          "output_type": "stream",
          "name": "stdout",
          "text": [
            "<class 'float'>\n",
            "<class 'float'>\n"
          ]
        }
      ]
    },
    {
      "cell_type": "code",
      "source": [
        "print(\"Vamos aprender as operações?\")\n",
        "operacao = input(\"Para escolher qual operação você deseja aplicar, digite da seguinte forma: (A)Adição, (S)Subtração, (M)Multiplicação, (D)Divisão ou (R)Resto: \")"
      ],
      "metadata": {
        "colab": {
          "base_uri": "https://localhost:8080/"
        },
        "id": "KxUCaSxBoKxA",
        "outputId": "7869f105-ae78-4b5f-f0b3-b2bd2be56e1d"
      },
      "execution_count": 21,
      "outputs": [
        {
          "name": "stdout",
          "output_type": "stream",
          "text": [
            "Vamos aprender as operações?\n",
            "Para escolher qual operação você deseja aplicar, digite da seguinte forma: (A)Adição, (S)Subtração, (M)Multiplicação, (D)Divisão ou (R)Resto: p\n"
          ]
        }
      ]
    },
    {
      "cell_type": "code",
      "source": [
        "if operacao == \"A\" or operacao == \"a\":\n",
        "    print(\"Você selecionou a Adição, e o resultado da operação é: \",num1_convert + num2_convert)\n",
        "elif operacao == \"S\" or operacao ==\"s\":\n",
        "    print(\"Você selecionou a Subtração, e o resultado da operação é: \", num1_convert - num2_convert)\n",
        "elif operacao == \"M\" or operacao ==\"m\":\n",
        "    print(\"Você selecionou a Multiplicação, e o resultado da operação é: \", num1_convert * num2_convert)\n",
        "elif operacao == \"D\" or operacao ==\"d\":\n",
        "    print(\"Você selecionou a Divisão, e o resultado da operação é: \", num1_convert / num2_convert)\n",
        "elif operacao == \"R\" or operacao ==\"r\":\n",
        "    print(\"Você selecionou o Resto, e o resultado da operação é: \", num1_convert % num2_convert)\n",
        "else:\n",
        "    print(\"Você digitou uma opção inválida, tente novamente!\")"
      ],
      "metadata": {
        "colab": {
          "base_uri": "https://localhost:8080/"
        },
        "id": "PZO25-3KplZe",
        "outputId": "6c467c2d-ed2d-4a4d-a5b6-6a47a1ad258f"
      },
      "execution_count": 22,
      "outputs": [
        {
          "output_type": "stream",
          "name": "stdout",
          "text": [
            "Você digitou uma opção inválida, tente novamente!\n"
          ]
        }
      ]
    }
  ]
}